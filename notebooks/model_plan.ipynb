{
 "cells": [
  {
   "cell_type": "code",
   "execution_count": null,
   "id": "5add8690",
   "metadata": {
    "vscode": {
     "languageId": "plaintext"
    }
   },
   "outputs": [],
   "source": [
    "# 🧠 AI Track – Model Planning Notebook\n",
    "\n",
    "## 1. Project Overview\n",
    "- Goal: Build predictive models, NLP pipelines, and recommendation systems using business datasets.\n",
    "- Target: Integrate AI into a full-stack app for insights and automation.\n",
    "\n",
    "## 2. Dataset Inventory\n",
    "- ✅ Covid19-dataset (image classification)\n",
    "- ✅ customer_churn.csv (binary classification)\n",
    "- ✅ hotel_bookings.csv (regression/classification)\n",
    "- ✅ Rotten Tomatoes (NLP sentiment analysis)\n",
    "- ✅ Superstore_2023.csv (recommendation engine)\n",
    "\n",
    "## 3. Problem Statements\n",
    "- Predict customer churn based on behavior\n",
    "- Classify chest X-rays into COVID/Normal/Pneumonia\n",
    "- Recommend products based on purchase history\n",
    "- Extract sentiment from movie reviews\n",
    "\n",
    "## 4. Modeling Strategy\n",
    "- Start with baseline models (Logistic Regression, Decision Trees)\n",
    "- Move to advanced models (CNNs, Transformers, XGBoost)\n",
    "- Evaluate using accuracy, precision, recall, F1, ROC-AUC\n",
    "\n",
    "## 5. Timeline & Milestones\n",
    "- Week 3: EDA + Feature Engineering\n",
    "- Week 4: Baseline Models\n",
    "- Week 5: Model Refinement\n",
    "- Week 6–7: API Integration\n",
    "\n",
    "## 6. Next Steps\n",
    "- Choose first dataset to explore\n",
    "- Begin EDA in a separate notebook\n",
    "- Document findings and prep for modeling\n",
    "\n"
   ]
  }
 ],
 "metadata": {
  "language_info": {
   "name": "python"
  }
 },
 "nbformat": 4,
 "nbformat_minor": 5
}
